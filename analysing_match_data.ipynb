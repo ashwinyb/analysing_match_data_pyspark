{
 "cells": [
  {
   "cell_type": "code",
   "execution_count": 1,
   "id": "4436e37b",
   "metadata": {},
   "outputs": [],
   "source": [
    "from pyspark.sql import SparkSession"
   ]
  },
  {
   "cell_type": "code",
   "execution_count": 2,
   "id": "6ca64065",
   "metadata": {},
   "outputs": [],
   "source": [
    "spark = SparkSession.builder.appName('firstProject').getOrCreate()"
   ]
  },
  {
   "cell_type": "code",
   "execution_count": 3,
   "id": "50d90847",
   "metadata": {},
   "outputs": [],
   "source": [
    "def load_dataframe(filename):\n",
    "    df = spark.read.format('csv').options(header='true').load(filename)\n",
    "    return df"
   ]
  },
  {
   "cell_type": "code",
   "execution_count": 4,
   "id": "382834bf",
   "metadata": {},
   "outputs": [],
   "source": [
    "df_matches = load_dataframe('./Data/Matches.csv')"
   ]
  },
  {
   "cell_type": "code",
   "execution_count": 5,
   "id": "9883b9af",
   "metadata": {},
   "outputs": [
    {
     "name": "stdout",
     "output_type": "stream",
     "text": [
      "+--------+---+------+----------+-------------+--------------+----+----+---+\n",
      "|Match_ID|Div|Season|      Date|     HomeTeam|      AwayTeam|FTHG|FTAG|FTR|\n",
      "+--------+---+------+----------+-------------+--------------+----+----+---+\n",
      "|       1| D2|  2009|2010-04-04|   Oberhausen|Kaiserslautern|   2|   1|  H|\n",
      "|       2| D2|  2009|2009-11-01|  Munich 1860|Kaiserslautern|   0|   1|  A|\n",
      "|       3| D2|  2009|2009-10-04|Frankfurt FSV|Kaiserslautern|   1|   1|  D|\n",
      "|       4| D2|  2009|2010-02-21|Frankfurt FSV|     Karlsruhe|   2|   1|  H|\n",
      "|       5| D2|  2009|2009-12-06|        Ahlen|     Karlsruhe|   1|   3|  A|\n",
      "+--------+---+------+----------+-------------+--------------+----+----+---+\n",
      "\n"
     ]
    }
   ],
   "source": [
    "df_matches.limit(5).show()"
   ]
  },
  {
   "cell_type": "code",
   "execution_count": 6,
   "id": "1c4b4b01",
   "metadata": {},
   "outputs": [
    {
     "name": "stdout",
     "output_type": "stream",
     "text": [
      "+--------+---+------+----------+------------------+--------------+-------------+-------------+-----------+\n",
      "|Match_ID|Div|Season|      Date|          HomeTeam|      AwayTeam|HomeTeamGoals|AwayTeamGoals|FinalResult|\n",
      "+--------+---+------+----------+------------------+--------------+-------------+-------------+-----------+\n",
      "|       1| D2|  2009|2010-04-04|        Oberhausen|Kaiserslautern|            2|            1|          H|\n",
      "|       2| D2|  2009|2009-11-01|       Munich 1860|Kaiserslautern|            0|            1|          A|\n",
      "|       3| D2|  2009|2009-10-04|     Frankfurt FSV|Kaiserslautern|            1|            1|          D|\n",
      "|       4| D2|  2009|2010-02-21|     Frankfurt FSV|     Karlsruhe|            2|            1|          H|\n",
      "|       5| D2|  2009|2009-12-06|             Ahlen|     Karlsruhe|            1|            3|          A|\n",
      "|       6| D2|  2009|2010-04-03|      Union Berlin|     Karlsruhe|            1|            1|          D|\n",
      "|       7| D2|  2009|2009-08-14|         Paderborn|     Karlsruhe|            2|            0|          H|\n",
      "|       8| D2|  2009|2010-03-08|         Bielefeld|     Karlsruhe|            0|            1|          A|\n",
      "|       9| D2|  2009|2009-09-26|    Kaiserslautern|     Karlsruhe|            2|            0|          H|\n",
      "|      10| D2|  2009|2009-11-21|     Hansa Rostock|     Karlsruhe|            2|            1|          H|\n",
      "|      11| D2|  2009|2009-12-19|    Greuther Furth|     Karlsruhe|            1|            4|          A|\n",
      "|      12| D2|  2009|2010-04-16|           Koblenz|     Karlsruhe|            2|            2|          D|\n",
      "|      13| D2|  2009|2010-03-21|        Oberhausen|     Karlsruhe|            1|            0|          H|\n",
      "|      14| D2|  2009|2009-09-14|           Cottbus|     Karlsruhe|            2|            4|          A|\n",
      "|      15| D2|  2009|2010-05-02|          Duisburg|     Karlsruhe|            0|            1|          A|\n",
      "|      16| D2|  2009|2009-10-30|Fortuna Dusseldorf|     Karlsruhe|            1|            0|          H|\n",
      "|      17| D2|  2009|2010-01-15|            Aachen|     Karlsruhe|            3|            1|          H|\n",
      "|      18| D2|  2009|2009-10-18|          Augsburg|     Karlsruhe|            1|            1|          D|\n",
      "|      19| D2|  2009|2010-02-05|          St Pauli|     Karlsruhe|            2|            1|          H|\n",
      "|      20| D2|  2009|2009-08-24|       Munich 1860|     Karlsruhe|            1|            3|          A|\n",
      "+--------+---+------+----------+------------------+--------------+-------------+-------------+-----------+\n",
      "only showing top 20 rows\n",
      "\n"
     ]
    }
   ],
   "source": [
    "# rename some columns\n",
    "\n",
    "old_cols = df_matches.columns[-3:]\n",
    "new_cols = ['HomeTeamGoals', 'AwayTeamGoals', 'FinalResult']\n",
    "old_new_cols = [*zip(old_cols, new_cols)]\n",
    "\n",
    "for old_col, new_col in old_new_cols:\n",
    "    df_matches = df_matches.withColumnRenamed(old_col, new_col)\n",
    "    \n",
    "df_matches.show()"
   ]
  },
  {
   "cell_type": "markdown",
   "id": "d60614dd",
   "metadata": {},
   "source": [
    "**Who are the winners of the D1 division in the Germany Football Association (Bundesliga) between 2000–2010?**"
   ]
  },
  {
   "cell_type": "code",
   "execution_count": 7,
   "id": "6c3880db",
   "metadata": {},
   "outputs": [],
   "source": [
    "from pyspark.sql.functions import col, when\n",
    "\n",
    "df_matches = (df_matches\n",
    "              .withColumn('HomeTeamWin', when(col('FinalResult')=='H', 1).otherwise(0))\n",
    "              .withColumn('AwayTeamWin', when(col('FinalResult')=='A', 1).otherwise(0))\n",
    "              .withColumn('GameTie', when(col('FinalResult')=='D', 1).otherwise(0))\n",
    "             )"
   ]
  },
  {
   "cell_type": "code",
   "execution_count": 8,
   "id": "b45bc504",
   "metadata": {},
   "outputs": [
    {
     "name": "stdout",
     "output_type": "stream",
     "text": [
      "+--------+---+------+----------+-------------+--------------+-------------+-------------+-----------+-----------+-----------+-------+\n",
      "|Match_ID|Div|Season|      Date|     HomeTeam|      AwayTeam|HomeTeamGoals|AwayTeamGoals|FinalResult|HomeTeamWin|AwayTeamWin|GameTie|\n",
      "+--------+---+------+----------+-------------+--------------+-------------+-------------+-----------+-----------+-----------+-------+\n",
      "|       1| D2|  2009|2010-04-04|   Oberhausen|Kaiserslautern|            2|            1|          H|          1|          0|      0|\n",
      "|       2| D2|  2009|2009-11-01|  Munich 1860|Kaiserslautern|            0|            1|          A|          0|          1|      0|\n",
      "|       3| D2|  2009|2009-10-04|Frankfurt FSV|Kaiserslautern|            1|            1|          D|          0|          0|      1|\n",
      "|       4| D2|  2009|2010-02-21|Frankfurt FSV|     Karlsruhe|            2|            1|          H|          1|          0|      0|\n",
      "|       5| D2|  2009|2009-12-06|        Ahlen|     Karlsruhe|            1|            3|          A|          0|          1|      0|\n",
      "+--------+---+------+----------+-------------+--------------+-------------+-------------+-----------+-----------+-----------+-------+\n",
      "only showing top 5 rows\n",
      "\n"
     ]
    }
   ],
   "source": [
    "df_matches.show(5)"
   ]
  },
  {
   "cell_type": "code",
   "execution_count": 9,
   "id": "d4fe3919",
   "metadata": {},
   "outputs": [],
   "source": [
    "# bundesliga is a D1 division and we are interested in season <= 2010 and >= 2000\n",
    "\n",
    "bundesliga = (df_matches\n",
    "             .filter((col('Season') <= 2010) & (col('Season') >= 2000) & (col('Div') == 'D1')))"
   ]
  },
  {
   "cell_type": "code",
   "execution_count": 10,
   "id": "e2a4ea0c",
   "metadata": {},
   "outputs": [
    {
     "name": "stdout",
     "output_type": "stream",
     "text": [
      "+-----------+\n",
      "|min(Season)|\n",
      "+-----------+\n",
      "|       2000|\n",
      "+-----------+\n",
      "\n"
     ]
    }
   ],
   "source": [
    "bundesliga.agg({'Season': 'min'}).show()"
   ]
  },
  {
   "cell_type": "code",
   "execution_count": 11,
   "id": "25877906",
   "metadata": {},
   "outputs": [
    {
     "name": "stdout",
     "output_type": "stream",
     "text": [
      "root\n",
      " |-- Match_ID: string (nullable = true)\n",
      " |-- Div: string (nullable = true)\n",
      " |-- Season: string (nullable = true)\n",
      " |-- Date: string (nullable = true)\n",
      " |-- HomeTeam: string (nullable = true)\n",
      " |-- AwayTeam: string (nullable = true)\n",
      " |-- HomeTeamGoals: string (nullable = true)\n",
      " |-- AwayTeamGoals: string (nullable = true)\n",
      " |-- FinalResult: string (nullable = true)\n",
      " |-- HomeTeamWin: integer (nullable = false)\n",
      " |-- AwayTeamWin: integer (nullable = false)\n",
      " |-- GameTie: integer (nullable = false)\n",
      "\n"
     ]
    }
   ],
   "source": [
    "bundesliga.printSchema()"
   ]
  },
  {
   "cell_type": "code",
   "execution_count": 12,
   "id": "0374e71d",
   "metadata": {},
   "outputs": [],
   "source": [
    "# Home team Features\n",
    "from pyspark.sql.functions import sum\n",
    "\n",
    "home = bundesliga.groupby('Season', 'HomeTeam') \\\n",
    "       .agg(sum('HomeTeamWin').alias('TotalHomeWin'),\n",
    "            sum('AwayTeamWin').alias('TotalHomeLoss'),\n",
    "            sum('GameTie').alias('TotalHomeTie'),\n",
    "            sum('HomeTeamGoals').alias('HomeScoredGoals'),\n",
    "            sum('AwayTeamGoals').alias('HomeAgainstGoals')) \\\n",
    "       .withColumnRenamed('HomeTeam', 'Team')"
   ]
  },
  {
   "cell_type": "code",
   "execution_count": 13,
   "id": "14243630",
   "metadata": {},
   "outputs": [
    {
     "name": "stdout",
     "output_type": "stream",
     "text": [
      "+------+--------------+------------+-------------+------------+---------------+----------------+\n",
      "|Season|Team          |TotalHomeWin|TotalHomeLoss|TotalHomeTie|HomeScoredGoals|HomeAgainstGoals|\n",
      "+------+--------------+------------+-------------+------------+---------------+----------------+\n",
      "|2005  |Kaiserslautern|5           |7            |5           |26.0           |33.0            |\n",
      "|2006  |Cottbus       |6           |6            |5           |21.0           |22.0            |\n",
      "|2001  |St Pauli      |4           |9            |4           |19.0           |28.0            |\n",
      "|2005  |Mainz         |6           |4            |7           |31.0           |23.0            |\n",
      "|2006  |Hamburg       |4           |4            |9           |22.0           |19.0            |\n",
      "+------+--------------+------------+-------------+------------+---------------+----------------+\n",
      "only showing top 5 rows\n",
      "\n"
     ]
    }
   ],
   "source": [
    "home.show(5, truncate=False)"
   ]
  },
  {
   "cell_type": "code",
   "execution_count": 14,
   "id": "463ab058",
   "metadata": {},
   "outputs": [],
   "source": [
    "# Away Team Features\n",
    "\n",
    "away = (bundesliga.groupby('Season', 'AwayTeam')\n",
    "       .agg(sum('AwayTeamWin').alias('TotalAwayWin'),\n",
    "           sum('HomeTeamWin').alias('TotalAwayLoss'),\n",
    "           sum('GameTie').alias('TotalAwayTie'),\n",
    "           sum('AwayTeamGoals').alias('AwayScoredGoals'),\n",
    "           sum('HomeTeamGoals').alias('AwayAgainstGoals'))\n",
    "       .withColumnRenamed('AwayTeam', 'Team'))"
   ]
  },
  {
   "cell_type": "code",
   "execution_count": 15,
   "id": "1bfb3324",
   "metadata": {},
   "outputs": [
    {
     "name": "stdout",
     "output_type": "stream",
     "text": [
      "+------+--------------+------------+-------------+------------+---------------+----------------+\n",
      "|Season|Team          |TotalAwayWin|TotalAwayLoss|TotalAwayTie|AwayScoredGoals|AwayAgainstGoals|\n",
      "+------+--------------+------------+-------------+------------+---------------+----------------+\n",
      "|2005  |Kaiserslautern|3           |10           |4           |21.0           |38.0            |\n",
      "|2006  |Cottbus       |5           |9            |3           |17.0           |27.0            |\n",
      "|2001  |St Pauli      |0           |11           |6           |18.0           |42.0            |\n",
      "|2005  |Mainz         |3           |10           |4           |15.0           |24.0            |\n",
      "|2006  |Hamburg       |6           |5            |6           |21.0           |18.0            |\n",
      "+------+--------------+------------+-------------+------------+---------------+----------------+\n",
      "only showing top 5 rows\n",
      "\n"
     ]
    }
   ],
   "source": [
    "away.show(5, truncate=False)"
   ]
  },
  {
   "cell_type": "code",
   "execution_count": 16,
   "id": "4ddeaa1b",
   "metadata": {},
   "outputs": [],
   "source": [
    "#season features\n",
    "from pyspark.sql.window import Window\n",
    "\n",
    "window_col = ['Season']\n",
    "window = Window.partitionBy(window_col).orderBy(col('WinPct').desc(), col('GoalDifferentials').desc())"
   ]
  },
  {
   "cell_type": "code",
   "execution_count": 17,
   "id": "24ee6bbf",
   "metadata": {},
   "outputs": [],
   "source": [
    "from pyspark.sql.functions import round, rank\n",
    "\n",
    "table = (home.join(away, ['Team', 'Season'], 'inner')\n",
    "        .withColumn('GoalsScored', col('HomeScoredGoals') + col('AwayScoredGoals'))\n",
    "        .withColumn('GoalsAgainst', col('HomeAgainstGoals') + col('AwayAgainstGoals'))\n",
    "        .withColumn('GoalDifferentials', col('GoalsScored') - col('GoalsAgainst'))\n",
    "        .withColumn('Win', col('TotalHomeWin') + col('TotalAwayWin'))\n",
    "        .withColumn('Loss', col('TotalHomeLoss') + col('TotalAwayLoss'))\n",
    "        .withColumn('Tie', col('TotalHomeTie') + col('TotalAwayTie'))\n",
    "        .withColumn('WinPct', round((100* col('Win')/(col('Win') + col('Loss') + col('Tie'))), 2))\n",
    "        .drop('HomeScoredGoals', 'AwayScoredGoals', 'HomeAgainstGoals', 'AwayAgainstGoals',\n",
    "             'TotalHomeWin', 'TotalAwayWin', 'TotalHomeLoss', 'TotalAwayLoss', 'TotalHomeTie', 'TotalAwayTie')\n",
    "        .withColumn('TeamPosition', rank().over(window)))"
   ]
  },
  {
   "cell_type": "code",
   "execution_count": 18,
   "id": "c4b67388",
   "metadata": {},
   "outputs": [
    {
     "name": "stdout",
     "output_type": "stream",
     "text": [
      "+--------------+------+-----------+------------+-----------------+---+----+---+------+------------+\n",
      "|          Team|Season|GoalsScored|GoalsAgainst|GoalDifferentials|Win|Loss|Tie|WinPct|TeamPosition|\n",
      "+--------------+------+-----------+------------+-----------------+---+----+---+------+------------+\n",
      "| Bayern Munich|  2005|       67.0|        32.0|             35.0| 22|   3|  9| 64.71|           1|\n",
      "| Werder Bremen|  2005|       79.0|        37.0|             42.0| 21|   6|  7| 61.76|           2|\n",
      "|       Hamburg|  2005|       53.0|        30.0|             23.0| 21|   8|  5| 61.76|           3|\n",
      "|    Schalke 04|  2005|       47.0|        31.0|             16.0| 16|   5| 13| 47.06|           4|\n",
      "|    Leverkusen|  2005|       64.0|        49.0|             15.0| 14|  10| 10| 41.18|           5|\n",
      "|        Hertha|  2005|       52.0|        48.0|              4.0| 12|  10| 12| 35.29|           6|\n",
      "|      Nurnberg|  2005|       49.0|        51.0|             -2.0| 12|  14|  8| 35.29|           7|\n",
      "|      Dortmund|  2005|       45.0|        42.0|              3.0| 11|  10| 13| 32.35|           8|\n",
      "|    M'gladbach|  2005|       42.0|        50.0|             -8.0| 10|  12| 12| 29.41|           9|\n",
      "|     Bielefeld|  2005|       32.0|        47.0|            -15.0| 10|  17|  7| 29.41|          10|\n",
      "|         Mainz|  2005|       46.0|        47.0|             -1.0|  9|  14| 11| 26.47|          11|\n",
      "|     Stuttgart|  2005|       37.0|        39.0|             -2.0|  9|   9| 16| 26.47|          12|\n",
      "| Ein Frankfurt|  2005|       42.0|        51.0|             -9.0|  9|  16|  9| 26.47|          13|\n",
      "|Kaiserslautern|  2005|       47.0|        71.0|            -24.0|  8|  17|  9| 23.53|          14|\n",
      "|      Hannover|  2005|       43.0|        47.0|             -4.0|  7|  10| 17| 20.59|          15|\n",
      "|       FC Koln|  2005|       49.0|        71.0|            -22.0|  7|  18|  9| 20.59|          16|\n",
      "|     Wolfsburg|  2005|       33.0|        55.0|            -22.0|  7|  14| 13| 20.59|          16|\n",
      "|      Duisburg|  2005|       34.0|        63.0|            -29.0|  5|  17| 12| 14.71|          18|\n",
      "| Bayern Munich|  2000|       62.0|        37.0|             25.0| 19|   9|  6| 55.88|           1|\n",
      "|    Schalke 04|  2000|       65.0|        35.0|             30.0| 18|   8|  8| 52.94|           2|\n",
      "+--------------+------+-----------+------------+-----------------+---+----+---+------+------------+\n",
      "only showing top 20 rows\n",
      "\n"
     ]
    }
   ],
   "source": [
    "table.show()"
   ]
  },
  {
   "cell_type": "code",
   "execution_count": 19,
   "id": "0333c917",
   "metadata": {},
   "outputs": [],
   "source": [
    "table_df = table.filter(col('TeamPosition') == 1).orderBy(col('Season').asc())"
   ]
  },
  {
   "cell_type": "code",
   "execution_count": 20,
   "id": "59000cc0",
   "metadata": {},
   "outputs": [
    {
     "name": "stdout",
     "output_type": "stream",
     "text": [
      "+-------------+------+-----------+------------+-----------------+---+----+---+------+------------+\n",
      "|         Team|Season|GoalsScored|GoalsAgainst|GoalDifferentials|Win|Loss|Tie|WinPct|TeamPosition|\n",
      "+-------------+------+-----------+------------+-----------------+---+----+---+------+------------+\n",
      "|Bayern Munich|  2000|       62.0|        37.0|             25.0| 19|   9|  6| 55.88|           1|\n",
      "|   Leverkusen|  2001|       77.0|        38.0|             39.0| 21|   7|  6| 61.76|           1|\n",
      "|Bayern Munich|  2002|       70.0|        25.0|             45.0| 23|   5|  6| 67.65|           1|\n",
      "|Werder Bremen|  2003|       79.0|        38.0|             41.0| 22|   4|  8| 64.71|           1|\n",
      "|Bayern Munich|  2004|       75.0|        33.0|             42.0| 24|   5|  5| 70.59|           1|\n",
      "|Bayern Munich|  2005|       67.0|        32.0|             35.0| 22|   3|  9| 64.71|           1|\n",
      "|    Stuttgart|  2006|       61.0|        37.0|             24.0| 21|   6|  7| 61.76|           1|\n",
      "|Bayern Munich|  2007|       68.0|        21.0|             47.0| 22|   2| 10| 64.71|           1|\n",
      "|    Wolfsburg|  2008|       80.0|        41.0|             39.0| 21|   7|  6| 61.76|           1|\n",
      "|Bayern Munich|  2009|       72.0|        31.0|             41.0| 20|   4| 10| 58.82|           1|\n",
      "|     Dortmund|  2010|       67.0|        22.0|             45.0| 23|   5|  6| 67.65|           1|\n",
      "+-------------+------+-----------+------------+-----------------+---+----+---+------+------------+\n",
      "\n"
     ]
    }
   ],
   "source": [
    "table_df.show()"
   ]
  },
  {
   "cell_type": "code",
   "execution_count": 21,
   "id": "122e4525",
   "metadata": {},
   "outputs": [],
   "source": [
    "spark.stop()"
   ]
  }
 ],
 "metadata": {
  "kernelspec": {
   "display_name": "Python 3 (ipykernel)",
   "language": "python",
   "name": "python3"
  },
  "language_info": {
   "codemirror_mode": {
    "name": "ipython",
    "version": 3
   },
   "file_extension": ".py",
   "mimetype": "text/x-python",
   "name": "python",
   "nbconvert_exporter": "python",
   "pygments_lexer": "ipython3",
   "version": "3.9.10"
  }
 },
 "nbformat": 4,
 "nbformat_minor": 5
}
